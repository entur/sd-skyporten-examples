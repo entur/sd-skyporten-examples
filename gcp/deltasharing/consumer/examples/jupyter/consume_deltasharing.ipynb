{
 "cells": [
  {
   "cell_type": "markdown",
   "metadata": {
    "application/vnd.databricks.v1+cell": {
     "cellMetadata": {},
     "inputWidgets": {},
     "nuid": "de211ba5-9f8b-43dc-87ea-171302294511",
     "showTitle": false,
     "title": ""
    }
   },
   "source": [
    "# Deltasharing med skyporten"
   ]
  },
  {
   "cell_type": "code",
   "execution_count": null,
   "metadata": {},
   "outputs": [],
   "source": [
    "%load_ext autoreload\n",
    "%autoreload 2"
   ]
  },
  {
   "cell_type": "code",
   "execution_count": null,
   "metadata": {},
   "outputs": [],
   "source": [
    "import sys\n",
    "sys.path.append(\"../..\") # go to parent dir"
   ]
  },
  {
   "cell_type": "markdown",
   "metadata": {},
   "source": [
    "## Set enviroment variable fra Maskinporten/Skyporten\n",
    "\n",
    "Om du ikke har opprettet en integrasjon i Maskinporten kan du hente det i forenklet onboarding(https://onboarding.test.maskinporten.no)\n",
    "\n",
    "* MASKINPORTEN_KID=keyid\n",
    "* MASKINPORTEN_INTEGRATION_ID=uuid\n",
    "\n",
    "Og legg tilhørende privatnøkkelen under `/creds/maskinporten.pem`\n"
   ]
  },
  {
   "cell_type": "markdown",
   "metadata": {},
   "source": [
    "### The config object\n",
    "\n"
   ]
  },
  {
   "cell_type": "code",
   "execution_count": null,
   "metadata": {},
   "outputs": [],
   "source": [
    "skyporten_config = {\n",
    "    \"scope\": \"foo:adminenheter\",\n",
    "    \"bucket_name\": \"skyporten-222222222\",\n",
    "    \"filename\": \"config.share\",\n",
    "    \"resource\": \"https://skyporten.fooet\",\n",
    "    \"GOOGLE_PROJECT_ID\": \"dataplattform-sandbox-9999\",\n",
    "    \"SERVICE_ACCOUNT_EMAIL\": \"skyportenstorageconsumer@dataplattform-sandbox-9999.iam.gserviceaccount.com\",\n",
    "    \"POOL_PROVIDER\": \"testskyporten\",\n",
    "    \"PROVIDER_NAME\": \"testskyporten\",\n",
    "    \"PROJECT_NUMBER\": \"99999999999999\"\n",
    "}"
   ]
  },
  {
   "cell_type": "code",
   "execution_count": null,
   "metadata": {},
   "outputs": [],
   "source": [
    "import skyporten\n",
    "import shareconsume\n",
    "from shareconsume.in_mem_credentials import ShareConfig,pandas_from_share"
   ]
  },
  {
   "cell_type": "code",
   "execution_count": null,
   "metadata": {},
   "outputs": [],
   "source": [
    "credentials = skyporten.get_bucket_file(\n",
    "    config=skyporten_config,\n",
    ")"
   ]
  },
  {
   "cell_type": "code",
   "execution_count": null,
   "metadata": {},
   "outputs": [],
   "source": [
    "share_config = ShareConfig(share=\"adm-enheter\", schema=\"silver\", name=\"kommuner\")"
   ]
  },
  {
   "cell_type": "code",
   "execution_count": null,
   "metadata": {},
   "outputs": [],
   "source": [
    "df = pandas_from_share(credentials=credentials, share_config=share_config)\n",
    "df.show(5)"
   ]
  },
  {
   "cell_type": "markdown",
   "metadata": {
    "application/vnd.databricks.v1+cell": {
     "cellMetadata": {},
     "inputWidgets": {},
     "nuid": "f175975c-3b5b-4628-b609-52549f13e2a0",
     "showTitle": false,
     "title": ""
    }
   },
   "source": [
    "# Setup"
   ]
  },
  {
   "cell_type": "code",
   "execution_count": null,
   "metadata": {
    "application/vnd.databricks.v1+cell": {
     "cellMetadata": {},
     "inputWidgets": {},
     "nuid": "3500f364-b7fa-4ebc-a70a-76959e560604",
     "showTitle": false,
     "title": ""
    }
   },
   "outputs": [],
   "source": [
    "%sh pip install delta-sharing"
   ]
  },
  {
   "cell_type": "code",
   "execution_count": null,
   "metadata": {
    "application/vnd.databricks.v1+cell": {
     "cellMetadata": {},
     "inputWidgets": {},
     "nuid": "169ce988-ec45-49d5-b467-c97343f5fa9c",
     "showTitle": false,
     "title": ""
    }
   },
   "outputs": [],
   "source": [
    "import delta_sharing"
   ]
  },
  {
   "cell_type": "markdown",
   "metadata": {
    "application/vnd.databricks.v1+cell": {
     "cellMetadata": {},
     "inputWidgets": {},
     "nuid": "ea5ccde4-eb3c-44dc-9812-dcc54abbdac7",
     "showTitle": false,
     "title": ""
    }
   },
   "source": [
    "\n",
    "I manually created a volume to write files, since shared clusters have limited file system permissions"
   ]
  },
  {
   "cell_type": "code",
   "execution_count": null,
   "metadata": {
    "application/vnd.databricks.v1+cell": {
     "cellMetadata": {},
     "inputWidgets": {},
     "nuid": "aafdaac4-b2d0-42da-bb9f-4ffdd09e1995",
     "showTitle": false,
     "title": ""
    }
   },
   "outputs": [],
   "source": [
    "deltashare = dbutils.secrets.get(\"skyportensuppeverket\", \"unitsdeltashare\")\n",
    "deltasharepath = \"/Volumes/training/suppeverket/skyportensupperverket/skyportendeltashare/skyporten_config.share\"\n",
    "dbutils.fs.put(deltasharepath, deltashare, True)"
   ]
  },
  {
   "cell_type": "code",
   "execution_count": null,
   "metadata": {
    "application/vnd.databricks.v1+cell": {
     "cellMetadata": {},
     "inputWidgets": {},
     "nuid": "9996d2e7-25d5-4c47-8c9e-9171a25af4e9",
     "showTitle": false,
     "title": ""
    }
   },
   "outputs": [],
   "source": [
    "client = delta_sharing.SharingClient(deltasharepath)\n",
    "client.list_all_tables()"
   ]
  },
  {
   "cell_type": "code",
   "execution_count": null,
   "metadata": {
    "application/vnd.databricks.v1+cell": {
     "cellMetadata": {},
     "inputWidgets": {},
     "nuid": "48a88be8-786b-47e6-b47e-ed4979274e59",
     "showTitle": false,
     "title": ""
    }
   },
   "outputs": [],
   "source": [
    "profile_path = deltasharepath\n",
    "share_name = 'units'\n",
    "schema_name= 'silver'\n",
    "table_name = 'municipalities'\n",
    "share_uc_path = f\"{profile_path}#{share_name}.{schema_name}.{table_name}\"\n",
    "print(\"share_uc_path\", share_uc_path)\n",
    "kommuner = (\n",
    "    spark.read.format(\"deltaSharing\")\n",
    "    .load(share_uc_path)\n",
    "    .limit(10)\n",
    ")\n",
    "kommuner.display()"
   ]
  }
 ],
 "metadata": {
  "application/vnd.databricks.v1+notebook": {
   "dashboards": [],
   "language": "python",
   "notebookMetadata": {
    "pythonIndentUnit": 4
   },
   "notebookName": "consume_deltasharing",
   "widgets": {}
  },
  "kernelspec": {
   "display_name": "Python 3 (ipykernel)",
   "language": "python",
   "name": "python3"
  },
  "language_info": {
   "codemirror_mode": {
    "name": "ipython",
    "version": 3
   },
   "file_extension": ".py",
   "mimetype": "text/x-python",
   "name": "python",
   "nbconvert_exporter": "python",
   "pygments_lexer": "ipython3",
   "version": "3.12.2"
  }
 },
 "nbformat": 4,
 "nbformat_minor": 4
}
